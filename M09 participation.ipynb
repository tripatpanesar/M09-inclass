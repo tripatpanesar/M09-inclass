{
 "cells": [
  {
   "cell_type": "code",
   "execution_count": 1,
   "id": "111f4d0b-0755-4ba0-b3e7-8e6ad9328be2",
   "metadata": {},
   "outputs": [
    {
     "name": "stdout",
     "output_type": "stream",
     "text": [
      "running install\n",
      "/Users/tripatpanesar/opt/anaconda3/lib/python3.9/site-packages/setuptools/_distutils/cmd.py:66: SetuptoolsDeprecationWarning: setup.py install is deprecated.\n",
      "!!\n",
      "\n",
      "        ********************************************************************************\n",
      "        Please avoid running ``setup.py`` directly.\n",
      "        Instead, use pypa/build, pypa/installer or other\n",
      "        standards-based tools.\n",
      "\n",
      "        See https://blog.ganssle.io/articles/2021/10/setup-py-deprecated.html for details.\n",
      "        ********************************************************************************\n",
      "\n",
      "!!\n",
      "  self.initialize_options()\n",
      "/Users/tripatpanesar/opt/anaconda3/lib/python3.9/site-packages/setuptools/_distutils/cmd.py:66: EasyInstallDeprecationWarning: easy_install command is deprecated.\n",
      "!!\n",
      "\n",
      "        ********************************************************************************\n",
      "        Please avoid running ``setup.py`` and ``easy_install``.\n",
      "        Instead, use pypa/build, pypa/installer or other\n",
      "        standards-based tools.\n",
      "\n",
      "        See https://github.com/pypa/setuptools/issues/917 for details.\n",
      "        ********************************************************************************\n",
      "\n",
      "!!\n",
      "  self.initialize_options()\n",
      "running bdist_egg\n",
      "running egg_info\n",
      "writing my_package.egg-info/PKG-INFO\n",
      "writing dependency_links to my_package.egg-info/dependency_links.txt\n",
      "writing top-level names to my_package.egg-info/top_level.txt\n",
      "reading manifest file 'my_package.egg-info/SOURCES.txt'\n",
      "writing manifest file 'my_package.egg-info/SOURCES.txt'\n",
      "installing library code to build/bdist.macosx-10.9-x86_64/egg\n",
      "running install_lib\n",
      "warning: install_lib: 'build/lib' does not exist -- no Python modules to install\n",
      "\n",
      "creating build/bdist.macosx-10.9-x86_64/egg\n",
      "creating build/bdist.macosx-10.9-x86_64/egg/EGG-INFO\n",
      "copying my_package.egg-info/PKG-INFO -> build/bdist.macosx-10.9-x86_64/egg/EGG-INFO\n",
      "copying my_package.egg-info/SOURCES.txt -> build/bdist.macosx-10.9-x86_64/egg/EGG-INFO\n",
      "copying my_package.egg-info/dependency_links.txt -> build/bdist.macosx-10.9-x86_64/egg/EGG-INFO\n",
      "copying my_package.egg-info/top_level.txt -> build/bdist.macosx-10.9-x86_64/egg/EGG-INFO\n",
      "zip_safe flag not set; analyzing archive contents...\n",
      "creating 'dist/my_package-0.1.0-py3.9.egg' and adding 'build/bdist.macosx-10.9-x86_64/egg' to it\n",
      "removing 'build/bdist.macosx-10.9-x86_64/egg' (and everything under it)\n",
      "Processing my_package-0.1.0-py3.9.egg\n",
      "Removing /Users/tripatpanesar/opt/anaconda3/lib/python3.9/site-packages/my_package-0.1.0-py3.9.egg\n",
      "Copying my_package-0.1.0-py3.9.egg to /Users/tripatpanesar/opt/anaconda3/lib/python3.9/site-packages\n",
      "Removing my-package 0.1.0 from easy-install.pth file\n",
      "Adding my-package 0.1.0 to easy-install.pth file\n",
      "detected new path '/Users/tripatpanesar/Desktop/DS 5100/Participation/M09-inclass'\n",
      "\n",
      "Installed /Users/tripatpanesar/opt/anaconda3/lib/python3.9/site-packages/my_package-0.1.0-py3.9.egg\n",
      "Processing dependencies for my-package==0.1.0\n",
      "Finished processing dependencies for my-package==0.1.0\n"
     ]
    }
   ],
   "source": [
    "!python \"/Users/tripatpanesar/Desktop/DS 5100/Participation/M09-inclass/setup.py\" install"
   ]
  },
  {
   "cell_type": "code",
   "execution_count": 8,
   "id": "306eefda-053c-405a-93cf-976d9db24396",
   "metadata": {},
   "outputs": [
    {
     "name": "stdout",
     "output_type": "stream",
     "text": [
      "running install\n",
      "/Users/tripatpanesar/opt/anaconda3/lib/python3.9/site-packages/setuptools/_distutils/cmd.py:66: SetuptoolsDeprecationWarning: setup.py install is deprecated.\n",
      "!!\n",
      "\n",
      "        ********************************************************************************\n",
      "        Please avoid running ``setup.py`` directly.\n",
      "        Instead, use pypa/build, pypa/installer or other\n",
      "        standards-based tools.\n",
      "\n",
      "        See https://blog.ganssle.io/articles/2021/10/setup-py-deprecated.html for details.\n",
      "        ********************************************************************************\n",
      "\n",
      "!!\n",
      "  self.initialize_options()\n",
      "/Users/tripatpanesar/opt/anaconda3/lib/python3.9/site-packages/setuptools/_distutils/cmd.py:66: EasyInstallDeprecationWarning: easy_install command is deprecated.\n",
      "!!\n",
      "\n",
      "        ********************************************************************************\n",
      "        Please avoid running ``setup.py`` and ``easy_install``.\n",
      "        Instead, use pypa/build, pypa/installer or other\n",
      "        standards-based tools.\n",
      "\n",
      "        See https://github.com/pypa/setuptools/issues/917 for details.\n",
      "        ********************************************************************************\n",
      "\n",
      "!!\n",
      "  self.initialize_options()\n",
      "running bdist_egg\n",
      "running egg_info\n",
      "writing my_package.egg-info/PKG-INFO\n",
      "writing dependency_links to my_package.egg-info/dependency_links.txt\n",
      "writing top-level names to my_package.egg-info/top_level.txt\n",
      "reading manifest file 'my_package.egg-info/SOURCES.txt'\n",
      "writing manifest file 'my_package.egg-info/SOURCES.txt'\n",
      "installing library code to build/bdist.macosx-10.9-x86_64/egg\n",
      "running install_lib\n",
      "warning: install_lib: 'build/lib' does not exist -- no Python modules to install\n",
      "\n",
      "creating build/bdist.macosx-10.9-x86_64/egg\n",
      "creating build/bdist.macosx-10.9-x86_64/egg/EGG-INFO\n",
      "copying my_package.egg-info/PKG-INFO -> build/bdist.macosx-10.9-x86_64/egg/EGG-INFO\n",
      "copying my_package.egg-info/SOURCES.txt -> build/bdist.macosx-10.9-x86_64/egg/EGG-INFO\n",
      "copying my_package.egg-info/dependency_links.txt -> build/bdist.macosx-10.9-x86_64/egg/EGG-INFO\n",
      "copying my_package.egg-info/top_level.txt -> build/bdist.macosx-10.9-x86_64/egg/EGG-INFO\n",
      "zip_safe flag not set; analyzing archive contents...\n",
      "creating 'dist/my_package-0.1.0-py3.9.egg' and adding 'build/bdist.macosx-10.9-x86_64/egg' to it\n",
      "removing 'build/bdist.macosx-10.9-x86_64/egg' (and everything under it)\n",
      "Processing my_package-0.1.0-py3.9.egg\n",
      "Removing /Users/tripatpanesar/opt/anaconda3/lib/python3.9/site-packages/my_package-0.1.0-py3.9.egg\n",
      "Copying my_package-0.1.0-py3.9.egg to /Users/tripatpanesar/opt/anaconda3/lib/python3.9/site-packages\n",
      "Removing my-package 0.1.0 from easy-install.pth file\n",
      "Adding my-package 0.1.0 to easy-install.pth file\n",
      "detected new path '/Users/tripatpanesar/Desktop/DS 5100/Participation/M09-inclass'\n",
      "\n",
      "Installed /Users/tripatpanesar/opt/anaconda3/lib/python3.9/site-packages/my_package-0.1.0-py3.9.egg\n",
      "Processing dependencies for my-package==0.1.0\n",
      "Finished processing dependencies for my-package==0.1.0\n"
     ]
    }
   ],
   "source": [
    "!python \"/Users/tripatpanesar/Desktop/DS 5100/Participation/M09-inclass/setup.py\" install"
   ]
  },
  {
   "cell_type": "code",
   "execution_count": 9,
   "id": "8effea1f-4472-4b1b-857e-5e026b6b291a",
   "metadata": {},
   "outputs": [
    {
     "ename": "SyntaxError",
     "evalue": "invalid syntax (4272606784.py, line 1)",
     "output_type": "error",
     "traceback": [
      "\u001b[0;36m  File \u001b[0;32m\"/var/folders/lv/y_wwpk5n56q0xy889l10dwhm0000gn/T/ipykernel_47238/4272606784.py\"\u001b[0;36m, line \u001b[0;32m1\u001b[0m\n\u001b[0;31m    from my-package import myfunction\u001b[0m\n\u001b[0m           ^\u001b[0m\n\u001b[0;31mSyntaxError\u001b[0m\u001b[0;31m:\u001b[0m invalid syntax\n"
     ]
    }
   ],
   "source": [
    "from my-package import myfunction"
   ]
  },
  {
   "cell_type": "code",
   "execution_count": 14,
   "id": "ae8a4953-fee1-44e1-b044-da1b7d107f34",
   "metadata": {},
   "outputs": [
    {
     "ename": "ModuleNotFoundError",
     "evalue": "No module named 'my_package'",
     "output_type": "error",
     "traceback": [
      "\u001b[0;31m---------------------------------------------------------------------------\u001b[0m",
      "\u001b[0;31mModuleNotFoundError\u001b[0m                       Traceback (most recent call last)",
      "\u001b[0;32m/var/folders/lv/y_wwpk5n56q0xy889l10dwhm0000gn/T/ipykernel_47238/1733612284.py\u001b[0m in \u001b[0;36m<module>\u001b[0;34m\u001b[0m\n\u001b[0;32m----> 1\u001b[0;31m \u001b[0;32mfrom\u001b[0m \u001b[0mmy_package\u001b[0m\u001b[0;34m.\u001b[0m\u001b[0mjabber\u001b[0m \u001b[0;32mimport\u001b[0m \u001b[0mmyfunction\u001b[0m\u001b[0;34m\u001b[0m\u001b[0;34m\u001b[0m\u001b[0m\n\u001b[0m",
      "\u001b[0;31mModuleNotFoundError\u001b[0m: No module named 'my_package'"
     ]
    }
   ],
   "source": [
    "from my_package.jabber import myfunction"
   ]
  },
  {
   "cell_type": "code",
   "execution_count": 12,
   "id": "58baa79e-19c6-42f8-a89b-35bf01c78ae3",
   "metadata": {},
   "outputs": [
    {
     "ename": "ModuleNotFoundError",
     "evalue": "No module named 'my_package'",
     "output_type": "error",
     "traceback": [
      "\u001b[0;31m---------------------------------------------------------------------------\u001b[0m",
      "\u001b[0;31mModuleNotFoundError\u001b[0m                       Traceback (most recent call last)",
      "\u001b[0;32m/var/folders/lv/y_wwpk5n56q0xy889l10dwhm0000gn/T/ipykernel_47238/484495511.py\u001b[0m in \u001b[0;36m<module>\u001b[0;34m\u001b[0m\n\u001b[0;32m----> 1\u001b[0;31m \u001b[0;32mimport\u001b[0m \u001b[0mmy_package\u001b[0m\u001b[0;34m.\u001b[0m\u001b[0mmymodule\u001b[0m\u001b[0;34m\u001b[0m\u001b[0;34m\u001b[0m\u001b[0m\n\u001b[0m",
      "\u001b[0;31mModuleNotFoundError\u001b[0m: No module named 'my_package'"
     ]
    }
   ],
   "source": [
    "import my_package.mymodule"
   ]
  },
  {
   "cell_type": "code",
   "execution_count": 5,
   "id": "f12fd2f2-6ed4-4454-b1e3-13254ab4a378",
   "metadata": {},
   "outputs": [],
   "source": [
    "import myfile"
   ]
  },
  {
   "cell_type": "code",
   "execution_count": 9,
   "id": "53ead73a-6c5f-4d1b-8237-0b6f1db049f6",
   "metadata": {},
   "outputs": [],
   "source": [
    "from myfile import myfunction"
   ]
  },
  {
   "cell_type": "code",
   "execution_count": 10,
   "id": "0dfb71b6-abf9-4e96-945a-aca235bebbc3",
   "metadata": {},
   "outputs": [
    {
     "data": {
      "text/plain": [
       "'Hello, World!'"
      ]
     },
     "execution_count": 10,
     "metadata": {},
     "output_type": "execute_result"
    }
   ],
   "source": [
    "myfunction()"
   ]
  }
 ],
 "metadata": {
  "kernelspec": {
   "display_name": "Python 3 (ipykernel)",
   "language": "python",
   "name": "python3"
  },
  "language_info": {
   "codemirror_mode": {
    "name": "ipython",
    "version": 3
   },
   "file_extension": ".py",
   "mimetype": "text/x-python",
   "name": "python",
   "nbconvert_exporter": "python",
   "pygments_lexer": "ipython3",
   "version": "3.9.13"
  }
 },
 "nbformat": 4,
 "nbformat_minor": 5
}
